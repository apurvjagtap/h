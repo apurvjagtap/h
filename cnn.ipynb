{
 "cells": [
  {
   "cell_type": "code",
   "execution_count": null,
   "id": "f3aa4fd5",
   "metadata": {},
   "outputs": [],
   "source": [
    "pip install tensorflow==2.16.1 --ignore-installed\n"
   ]
  },
  {
   "cell_type": "code",
   "execution_count": 6,
   "id": "ff6803b6",
   "metadata": {},
   "outputs": [
    {
     "ename": "ModuleNotFoundError",
     "evalue": "No module named 'tensorflow'",
     "output_type": "error",
     "traceback": [
      "\u001b[1;31m---------------------------------------------------------------------------\u001b[0m",
      "\u001b[1;31mModuleNotFoundError\u001b[0m                       Traceback (most recent call last)",
      "\u001b[1;32m~\\AppData\\Local\\Temp/ipykernel_20188/3780068194.py\u001b[0m in \u001b[0;36m<module>\u001b[1;34m\u001b[0m\n\u001b[0;32m      1\u001b[0m \u001b[1;32mimport\u001b[0m \u001b[0mnumpy\u001b[0m \u001b[1;32mas\u001b[0m \u001b[0mnp\u001b[0m\u001b[1;33m\u001b[0m\u001b[1;33m\u001b[0m\u001b[0m\n\u001b[1;32m----> 2\u001b[1;33m \u001b[1;32mimport\u001b[0m \u001b[0mtensorflow\u001b[0m \u001b[1;32mas\u001b[0m \u001b[0mtf\u001b[0m\u001b[1;33m\u001b[0m\u001b[1;33m\u001b[0m\u001b[0m\n\u001b[0m\u001b[0;32m      3\u001b[0m \u001b[1;32mimport\u001b[0m \u001b[0mmatplotlib\u001b[0m\u001b[1;33m.\u001b[0m\u001b[0mpyplot\u001b[0m \u001b[1;32mas\u001b[0m \u001b[0mplt\u001b[0m\u001b[1;33m\u001b[0m\u001b[1;33m\u001b[0m\u001b[0m\n\u001b[0;32m      4\u001b[0m \u001b[1;32mimport\u001b[0m \u001b[0mkeras\u001b[0m\u001b[1;33m\u001b[0m\u001b[1;33m\u001b[0m\u001b[0m\n",
      "\u001b[1;31mModuleNotFoundError\u001b[0m: No module named 'tensorflow'"
     ]
    }
   ],
   "source": [
    "import numpy as np\n",
    "import tensorflow as tf\n",
    "import matplotlib.pyplot as plt\n",
    "import keras"
   ]
  },
  {
   "cell_type": "code",
   "execution_count": 8,
   "id": "5b6f281d",
   "metadata": {
    "scrolled": true
   },
   "outputs": [
    {
     "ename": "NameError",
     "evalue": "name 'tf' is not defined",
     "output_type": "error",
     "traceback": [
      "\u001b[1;31m---------------------------------------------------------------------------\u001b[0m",
      "\u001b[1;31mNameError\u001b[0m                                 Traceback (most recent call last)",
      "\u001b[1;32m~\\AppData\\Local\\Temp/ipykernel_20188/4011599678.py\u001b[0m in \u001b[0;36m<module>\u001b[1;34m\u001b[0m\n\u001b[1;32m----> 1\u001b[1;33m \u001b[1;33m(\u001b[0m\u001b[0mx_train\u001b[0m\u001b[1;33m,\u001b[0m \u001b[0my_train\u001b[0m\u001b[1;33m)\u001b[0m\u001b[1;33m,\u001b[0m \u001b[1;33m(\u001b[0m\u001b[0mx_test\u001b[0m\u001b[1;33m,\u001b[0m \u001b[0my_test\u001b[0m\u001b[1;33m)\u001b[0m \u001b[1;33m=\u001b[0m \u001b[0mtf\u001b[0m\u001b[1;33m.\u001b[0m\u001b[0mkeras\u001b[0m\u001b[1;33m.\u001b[0m\u001b[0mdatasets\u001b[0m\u001b[1;33m.\u001b[0m\u001b[0mfashion_mnistload_data\u001b[0m\u001b[1;33m(\u001b[0m\u001b[1;33m)\u001b[0m\u001b[1;33m\u001b[0m\u001b[1;33m\u001b[0m\u001b[0m\n\u001b[0m",
      "\u001b[1;31mNameError\u001b[0m: name 'tf' is not defined"
     ]
    }
   ],
   "source": [
    "(x_train, y_train), (x_test, y_test) = tf.keras.datasets.fashion_mnistload_data()"
   ]
  },
  {
   "cell_type": "code",
   "execution_count": null,
   "id": "f5601bb8",
   "metadata": {},
   "outputs": [],
   "source": [
    " class_names = ['T_shirt/top', 'Trouser', 'Pullover', 'Dress', 'Coat', 'Sandal',␣\n",
    "↪'Shirt', 'Sneaker', 'Bag', 'Ankle boot']\n"
   ]
  },
  {
   "cell_type": "code",
   "execution_count": null,
   "id": "65c347fc",
   "metadata": {},
   "outputs": [],
   "source": [
    " print(\"Number of images in training set {}\".format(x_train.shape))\n",
    "print(\"Number of labels in training set {}\".format(y_train.shape))\n",
    "print(\"Number of images in test set {}\".format(x_test.shape))\n",
    "print(\"Number of labels in test set {}\".format(y_train.shape))\n"
   ]
  },
  {
   "cell_type": "code",
   "execution_count": null,
   "id": "85765f38",
   "metadata": {},
   "outputs": [],
   "source": [
    " plt.figure()\n",
    "plt.imshow(np.squeeze(x_train[220]))\n"
   ]
  },
  {
   "cell_type": "code",
   "execution_count": null,
   "id": "8a3d9f69",
   "metadata": {},
   "outputs": [],
   "source": [
    " y_train[220]\n"
   ]
  },
  {
   "cell_type": "code",
   "execution_count": null,
   "id": "3de8670d",
   "metadata": {},
   "outputs": [],
   "source": [
    "plt.figure(figsize=(10,10))\n",
    "for i in range(15):\n",
    "    plt.subplot(5,5,i+1)\n",
    "    plt.xticks([])\n",
    "    plt.yticks([])\n",
    "    plt.imshow(x_train[i], cmap=plt.cm.binary)\n",
    "    plt.xlabel(class_names[y_train[i]])\n",
    "plt.show()\n"
   ]
  },
  {
   "cell_type": "code",
   "execution_count": null,
   "id": "55165e2f",
   "metadata": {},
   "outputs": [],
   "source": [
    " x_train=x_train/255\n",
    "x_test=x_test/255"
   ]
  },
  {
   "cell_type": "code",
   "execution_count": null,
   "id": "e7c447a3",
   "metadata": {},
   "outputs": [],
   "source": [
    " from tensorflow.keras.models import Sequential\n",
    "from tensorflow.keras.layers import Conv2D,MaxPooling2D,Dense,Flatten,Dropout\n",
    "from tensorflow.keras.optimizers import Adam\n",
    "from tensorflow.keras.callbacks import TensorBoard"
   ]
  },
  {
   "cell_type": "code",
   "execution_count": null,
   "id": "097887b9",
   "metadata": {},
   "outputs": [],
   "source": [
    " # We will create a straightforward CNN architecture with three convolutional layers followed by\n",
    "# three max-pooling layers for this dataset. Convolutional layers will perform the convolutional\n",
    "# operation and extract the features, while the max-pooling layer will downsample the features.\n",
    "cnn_model = Sequential()"
   ]
  },
  {
   "cell_type": "code",
   "execution_count": null,
   "id": "6127f12a",
   "metadata": {},
   "outputs": [],
   "source": [
    " # We are learning 64 filters with a kernel size of 3x3\n",
    "# First convolutional layer. Number of neurons = 32 filter(kernel) size = 3x3 Activation function = Relu\n",
    "cnn_model.add(Conv2D(32,3,3,input_shape = (28,28,1),activation = 'relu'))"
   ]
  },
  {
   "cell_type": "code",
   "execution_count": null,
   "id": "71beb8f2",
   "metadata": {},
   "outputs": [],
   "source": [
    "# Max Pool Layer: It will reduce the size with a kernel size of 2x2\n",
    "# Since input to CNN is a 2-D image and ouput from last convolutional layer␣\n",
    "↪(featuerMap) is also 2-D array\n",
    "# we will use 2D version of Max Pooling function of TensorFlow Keras to create␣\n",
    "↪a Max Pooling Layer\n",
    "cnn_model.add(MaxPooling2D(pool_size= (2,2)))"
   ]
  },
  {
   "cell_type": "code",
   "execution_count": null,
   "id": "b2c8d6af",
   "metadata": {},
   "outputs": [],
   "source": [
    " # Fully Connected (FC) Layer: Once the convolutional and pooling operations␣\n",
    "↪are done the layer is flattened and\n",
    "# fully connected layers are added hence, we need to convert 2-D output (2-D␣\n",
    "↪array) of last convolutional layer\n",
    "# (conv3) to 1-D array i.e. we need to flatten the 2-D array to 1-D array\n",
    "cnn_model.add(Flatten())\n"
   ]
  },
  {
   "cell_type": "code",
   "execution_count": null,
   "id": "d924bf8d",
   "metadata": {},
   "outputs": [],
   "source": [
    "# Fully Connected (FC) Layer - Hidden(Dense) Layer\n",
    "# Normally, the number of neurons that we keep in FC layer should be equal to␣\n",
    "↪the number of neurons in just\n",
    "# immediate previous convolutional layer\n",
    "cnn_model.add(Dense(32,activation = 'relu'))"
   ]
  },
  {
   "cell_type": "code",
   "execution_count": null,
   "id": "feda2a5d",
   "metadata": {},
   "outputs": [],
   "source": [
    " # Output Layer - with 10 neurons (as we have 10 output classes) and using␣\n",
    "↪'sigmoid' function\n",
    "cnn_model.add(Dense(10,activation = 'sigmoid'))\n"
   ]
  },
  {
   "cell_type": "code",
   "execution_count": null,
   "id": "76296bf8",
   "metadata": {},
   "outputs": [],
   "source": [
    "cnn_model.summary()\n"
   ]
  },
  {
   "cell_type": "code",
   "execution_count": null,
   "id": "5d6d2f8d",
   "metadata": {},
   "outputs": [],
   "source": [
    " ##Once the model architecture is defined, we will compile and build the model.\n",
    "cnn_model.compile(loss ='sparse_categorical_crossentropy',optimizer =␣\n",
    "↪Adam(learning_rate=0.001),metrics= ['accuracy'])\n"
   ]
  },
  {
   "cell_type": "code",
   "execution_count": null,
   "id": "e87fc046",
   "metadata": {},
   "outputs": [],
   "source": [
    "history=cnn_model.fit(x_train,y_train,batch_size =512,epochs = 5,verbose =␣\n",
    "↪1,validation_data = (x_test,y_test) )\n"
   ]
  },
  {
   "cell_type": "code",
   "execution_count": null,
   "id": "cfdec992",
   "metadata": {},
   "outputs": [],
   "source": [
    " cnn_model.evaluate(x_test, y_test)"
   ]
  },
  {
   "cell_type": "code",
   "execution_count": null,
   "id": "9789deaa",
   "metadata": {},
   "outputs": [],
   "source": [
    "probability_model = tf.keras.Sequential([cnn_model, tf.keras.layers.Softmax()])\n",
    "predictions = probability_model.predict(x_test)"
   ]
  },
  {
   "cell_type": "code",
   "execution_count": null,
   "id": "939a0452",
   "metadata": {},
   "outputs": [],
   "source": [
    " img = x_test[6]\n",
    "plt.imshow(img)\n"
   ]
  },
  {
   "cell_type": "code",
   "execution_count": null,
   "id": "e4372026",
   "metadata": {},
   "outputs": [],
   "source": [
    "y_predict = class_names[np.argmax(predictions[6])]\n",
    "y_predict\n"
   ]
  },
  {
   "cell_type": "code",
   "execution_count": null,
   "id": "f94523af",
   "metadata": {},
   "outputs": [],
   "source": [
    "y_actual = class_names[y_test[6]]\n",
    "y_actual"
   ]
  },
  {
   "cell_type": "code",
   "execution_count": null,
   "id": "259ba606",
   "metadata": {},
   "outputs": [],
   "source": [
    "img = x_test[0]\n",
    "plt.imshow(img)\n"
   ]
  },
  {
   "cell_type": "code",
   "execution_count": null,
   "id": "f8a30d50",
   "metadata": {},
   "outputs": [],
   "source": [
    "y_predict = class_names[np.argmax(predictions[0])]\n",
    "y_predict\n"
   ]
  },
  {
   "cell_type": "code",
   "execution_count": null,
   "id": "977a6c95",
   "metadata": {},
   "outputs": [],
   "source": [
    "y_actual = class_names[y_test[0]]\n",
    "y_actual"
   ]
  },
  {
   "cell_type": "code",
   "execution_count": null,
   "id": "0cedcee2",
   "metadata": {},
   "outputs": [],
   "source": [
    "# we are using the normalized input data\n",
    "test_loss, test_accuracy = cnn_model.evaluate(x_train, y_train)"
   ]
  },
  {
   "cell_type": "code",
   "execution_count": null,
   "id": "f3e5d3b6",
   "metadata": {},
   "outputs": [],
   "source": [
    "print(test_accuracy)\n"
   ]
  },
  {
   "cell_type": "code",
   "execution_count": null,
   "id": "8f5cafd7",
   "metadata": {},
   "outputs": [],
   "source": [
    "print(test_loss)\n"
   ]
  },
  {
   "cell_type": "code",
   "execution_count": null,
   "id": "7d435d17",
   "metadata": {},
   "outputs": [],
   "source": [
    "history.history??"
   ]
  },
  {
   "cell_type": "code",
   "execution_count": null,
   "id": "adac66e7",
   "metadata": {},
   "outputs": [],
   "source": [
    "history.history.keys()\n"
   ]
  },
  {
   "cell_type": "code",
   "execution_count": null,
   "id": "fe96f59d",
   "metadata": {},
   "outputs": [],
   "source": [
    "plt.plot(history.history['accuracy'],label='Accuracy')\n",
    "plt.plot(history.history['val_accuracy'])\n",
    "plt.title(\"Accuracy vs Validation Accuracy\")\n",
    "plt.xlabel(\"No. of epoch\")\n",
    "plt.ylabel(\"Accuracy\")\n",
    "plt.legend(['Train_acc', 'Val_acc'], loc='lower right')\n",
    "plt.show()\n"
   ]
  }
 ],
 "metadata": {
  "kernelspec": {
   "display_name": "Python 3 (ipykernel)",
   "language": "python",
   "name": "python3"
  },
  "language_info": {
   "codemirror_mode": {
    "name": "ipython",
    "version": 3
   },
   "file_extension": ".py",
   "mimetype": "text/x-python",
   "name": "python",
   "nbconvert_exporter": "python",
   "pygments_lexer": "ipython3",
   "version": "3.9.7"
  }
 },
 "nbformat": 4,
 "nbformat_minor": 5
}
