{
 "cells": [
  {
   "cell_type": "code",
   "execution_count": 1,
   "id": "1870c774",
   "metadata": {},
   "outputs": [],
   "source": [
    "import pandas as pd\n",
    "import numpy as np\n",
    "from sklearn.model_selection import train_test_split"
   ]
  },
  {
   "cell_type": "code",
   "execution_count": 9,
   "id": "1d884031",
   "metadata": {},
   "outputs": [],
   "source": [
    "df = pd.read_csv(\"C:\\\\Users\\\\rutik\\\\Downloads\\\\letter-recognition.csv\")"
   ]
  },
  {
   "cell_type": "code",
   "execution_count": 10,
   "id": "11ef799f",
   "metadata": {},
   "outputs": [
    {
     "data": {
      "text/html": [
       "<div>\n",
       "<style scoped>\n",
       "    .dataframe tbody tr th:only-of-type {\n",
       "        vertical-align: middle;\n",
       "    }\n",
       "\n",
       "    .dataframe tbody tr th {\n",
       "        vertical-align: top;\n",
       "    }\n",
       "\n",
       "    .dataframe thead th {\n",
       "        text-align: right;\n",
       "    }\n",
       "</style>\n",
       "<table border=\"1\" class=\"dataframe\">\n",
       "  <thead>\n",
       "    <tr style=\"text-align: right;\">\n",
       "      <th></th>\n",
       "      <th>letter</th>\n",
       "      <th>xbox</th>\n",
       "      <th>ybox</th>\n",
       "      <th>width</th>\n",
       "      <th>height</th>\n",
       "      <th>onpix</th>\n",
       "      <th>xbar</th>\n",
       "      <th>ybar</th>\n",
       "      <th>x2bar</th>\n",
       "      <th>y2bar</th>\n",
       "      <th>xybar</th>\n",
       "      <th>x2ybar</th>\n",
       "      <th>xy2bar</th>\n",
       "      <th>xedge</th>\n",
       "      <th>xedgey</th>\n",
       "      <th>yedge</th>\n",
       "      <th>yedgex</th>\n",
       "    </tr>\n",
       "  </thead>\n",
       "  <tbody>\n",
       "    <tr>\n",
       "      <th>0</th>\n",
       "      <td>T</td>\n",
       "      <td>2</td>\n",
       "      <td>8</td>\n",
       "      <td>3</td>\n",
       "      <td>5</td>\n",
       "      <td>1</td>\n",
       "      <td>8</td>\n",
       "      <td>13</td>\n",
       "      <td>0</td>\n",
       "      <td>6</td>\n",
       "      <td>6</td>\n",
       "      <td>10</td>\n",
       "      <td>8</td>\n",
       "      <td>0</td>\n",
       "      <td>8</td>\n",
       "      <td>0</td>\n",
       "      <td>8</td>\n",
       "    </tr>\n",
       "    <tr>\n",
       "      <th>1</th>\n",
       "      <td>I</td>\n",
       "      <td>5</td>\n",
       "      <td>12</td>\n",
       "      <td>3</td>\n",
       "      <td>7</td>\n",
       "      <td>2</td>\n",
       "      <td>10</td>\n",
       "      <td>5</td>\n",
       "      <td>5</td>\n",
       "      <td>4</td>\n",
       "      <td>13</td>\n",
       "      <td>3</td>\n",
       "      <td>9</td>\n",
       "      <td>2</td>\n",
       "      <td>8</td>\n",
       "      <td>4</td>\n",
       "      <td>10</td>\n",
       "    </tr>\n",
       "    <tr>\n",
       "      <th>2</th>\n",
       "      <td>D</td>\n",
       "      <td>4</td>\n",
       "      <td>11</td>\n",
       "      <td>6</td>\n",
       "      <td>8</td>\n",
       "      <td>6</td>\n",
       "      <td>10</td>\n",
       "      <td>6</td>\n",
       "      <td>2</td>\n",
       "      <td>6</td>\n",
       "      <td>10</td>\n",
       "      <td>3</td>\n",
       "      <td>7</td>\n",
       "      <td>3</td>\n",
       "      <td>7</td>\n",
       "      <td>3</td>\n",
       "      <td>9</td>\n",
       "    </tr>\n",
       "    <tr>\n",
       "      <th>3</th>\n",
       "      <td>N</td>\n",
       "      <td>7</td>\n",
       "      <td>11</td>\n",
       "      <td>6</td>\n",
       "      <td>6</td>\n",
       "      <td>3</td>\n",
       "      <td>5</td>\n",
       "      <td>9</td>\n",
       "      <td>4</td>\n",
       "      <td>6</td>\n",
       "      <td>4</td>\n",
       "      <td>4</td>\n",
       "      <td>10</td>\n",
       "      <td>6</td>\n",
       "      <td>10</td>\n",
       "      <td>2</td>\n",
       "      <td>8</td>\n",
       "    </tr>\n",
       "    <tr>\n",
       "      <th>4</th>\n",
       "      <td>G</td>\n",
       "      <td>2</td>\n",
       "      <td>1</td>\n",
       "      <td>3</td>\n",
       "      <td>1</td>\n",
       "      <td>1</td>\n",
       "      <td>8</td>\n",
       "      <td>6</td>\n",
       "      <td>6</td>\n",
       "      <td>6</td>\n",
       "      <td>6</td>\n",
       "      <td>5</td>\n",
       "      <td>9</td>\n",
       "      <td>1</td>\n",
       "      <td>7</td>\n",
       "      <td>5</td>\n",
       "      <td>10</td>\n",
       "    </tr>\n",
       "    <tr>\n",
       "      <th>...</th>\n",
       "      <td>...</td>\n",
       "      <td>...</td>\n",
       "      <td>...</td>\n",
       "      <td>...</td>\n",
       "      <td>...</td>\n",
       "      <td>...</td>\n",
       "      <td>...</td>\n",
       "      <td>...</td>\n",
       "      <td>...</td>\n",
       "      <td>...</td>\n",
       "      <td>...</td>\n",
       "      <td>...</td>\n",
       "      <td>...</td>\n",
       "      <td>...</td>\n",
       "      <td>...</td>\n",
       "      <td>...</td>\n",
       "      <td>...</td>\n",
       "    </tr>\n",
       "    <tr>\n",
       "      <th>19995</th>\n",
       "      <td>D</td>\n",
       "      <td>2</td>\n",
       "      <td>2</td>\n",
       "      <td>3</td>\n",
       "      <td>3</td>\n",
       "      <td>2</td>\n",
       "      <td>7</td>\n",
       "      <td>7</td>\n",
       "      <td>7</td>\n",
       "      <td>6</td>\n",
       "      <td>6</td>\n",
       "      <td>6</td>\n",
       "      <td>4</td>\n",
       "      <td>2</td>\n",
       "      <td>8</td>\n",
       "      <td>3</td>\n",
       "      <td>7</td>\n",
       "    </tr>\n",
       "    <tr>\n",
       "      <th>19996</th>\n",
       "      <td>C</td>\n",
       "      <td>7</td>\n",
       "      <td>10</td>\n",
       "      <td>8</td>\n",
       "      <td>8</td>\n",
       "      <td>4</td>\n",
       "      <td>4</td>\n",
       "      <td>8</td>\n",
       "      <td>6</td>\n",
       "      <td>9</td>\n",
       "      <td>12</td>\n",
       "      <td>9</td>\n",
       "      <td>13</td>\n",
       "      <td>2</td>\n",
       "      <td>9</td>\n",
       "      <td>3</td>\n",
       "      <td>7</td>\n",
       "    </tr>\n",
       "    <tr>\n",
       "      <th>19997</th>\n",
       "      <td>T</td>\n",
       "      <td>6</td>\n",
       "      <td>9</td>\n",
       "      <td>6</td>\n",
       "      <td>7</td>\n",
       "      <td>5</td>\n",
       "      <td>6</td>\n",
       "      <td>11</td>\n",
       "      <td>3</td>\n",
       "      <td>7</td>\n",
       "      <td>11</td>\n",
       "      <td>9</td>\n",
       "      <td>5</td>\n",
       "      <td>2</td>\n",
       "      <td>12</td>\n",
       "      <td>2</td>\n",
       "      <td>4</td>\n",
       "    </tr>\n",
       "    <tr>\n",
       "      <th>19998</th>\n",
       "      <td>S</td>\n",
       "      <td>2</td>\n",
       "      <td>3</td>\n",
       "      <td>4</td>\n",
       "      <td>2</td>\n",
       "      <td>1</td>\n",
       "      <td>8</td>\n",
       "      <td>7</td>\n",
       "      <td>2</td>\n",
       "      <td>6</td>\n",
       "      <td>10</td>\n",
       "      <td>6</td>\n",
       "      <td>8</td>\n",
       "      <td>1</td>\n",
       "      <td>9</td>\n",
       "      <td>5</td>\n",
       "      <td>8</td>\n",
       "    </tr>\n",
       "    <tr>\n",
       "      <th>19999</th>\n",
       "      <td>A</td>\n",
       "      <td>4</td>\n",
       "      <td>9</td>\n",
       "      <td>6</td>\n",
       "      <td>6</td>\n",
       "      <td>2</td>\n",
       "      <td>9</td>\n",
       "      <td>5</td>\n",
       "      <td>3</td>\n",
       "      <td>1</td>\n",
       "      <td>8</td>\n",
       "      <td>1</td>\n",
       "      <td>8</td>\n",
       "      <td>2</td>\n",
       "      <td>7</td>\n",
       "      <td>2</td>\n",
       "      <td>8</td>\n",
       "    </tr>\n",
       "  </tbody>\n",
       "</table>\n",
       "<p>20000 rows × 17 columns</p>\n",
       "</div>"
      ],
      "text/plain": [
       "      letter  xbox   ybox   width   height  onpix   xbar   ybar   x2bar  \\\n",
       "0          T      2      8       3       5       1      8     13      0   \n",
       "1          I      5     12       3       7       2     10      5      5   \n",
       "2          D      4     11       6       8       6     10      6      2   \n",
       "3          N      7     11       6       6       3      5      9      4   \n",
       "4          G      2      1       3       1       1      8      6      6   \n",
       "...      ...    ...    ...     ...     ...     ...    ...    ...    ...   \n",
       "19995      D      2      2       3       3       2      7      7      7   \n",
       "19996      C      7     10       8       8       4      4      8      6   \n",
       "19997      T      6      9       6       7       5      6     11      3   \n",
       "19998      S      2      3       4       2       1      8      7      2   \n",
       "19999      A      4      9       6       6       2      9      5      3   \n",
       "\n",
       "       y2bar   xybar   x2ybar  xy2bar  xedge   xedgey  yedge   yedgex  \n",
       "0           6       6      10       8       0       8       0       8  \n",
       "1           4      13       3       9       2       8       4      10  \n",
       "2           6      10       3       7       3       7       3       9  \n",
       "3           6       4       4      10       6      10       2       8  \n",
       "4           6       6       5       9       1       7       5      10  \n",
       "...       ...     ...     ...     ...     ...     ...     ...     ...  \n",
       "19995       6       6       6       4       2       8       3       7  \n",
       "19996       9      12       9      13       2       9       3       7  \n",
       "19997       7      11       9       5       2      12       2       4  \n",
       "19998       6      10       6       8       1       9       5       8  \n",
       "19999       1       8       1       8       2       7       2       8  \n",
       "\n",
       "[20000 rows x 17 columns]"
      ]
     },
     "execution_count": 10,
     "metadata": {},
     "output_type": "execute_result"
    }
   ],
   "source": [
    "df"
   ]
  },
  {
   "cell_type": "code",
   "execution_count": 12,
   "id": "f953a343",
   "metadata": {},
   "outputs": [],
   "source": [
    "x = df.drop(\"letter\", axis=1).values\n",
    "y = df[\"letter\"].values"
   ]
  },
  {
   "cell_type": "code",
   "execution_count": 13,
   "id": "ebb99e6e",
   "metadata": {},
   "outputs": [
    {
     "data": {
      "text/plain": [
       "(20000, 16)"
      ]
     },
     "execution_count": 13,
     "metadata": {},
     "output_type": "execute_result"
    }
   ],
   "source": [
    "x.shape"
   ]
  },
  {
   "cell_type": "code",
   "execution_count": 14,
   "id": "e2ae705e",
   "metadata": {},
   "outputs": [
    {
     "data": {
      "text/plain": [
       "(20000,)"
      ]
     },
     "execution_count": 14,
     "metadata": {},
     "output_type": "execute_result"
    }
   ],
   "source": [
    "y.shape"
   ]
  },
  {
   "cell_type": "code",
   "execution_count": 15,
   "id": "f089c357",
   "metadata": {},
   "outputs": [
    {
     "data": {
      "text/plain": [
       "array(['A', 'B', 'C', 'D', 'E', 'F', 'G', 'H', 'I', 'J', 'K', 'L', 'M',\n",
       "       'N', 'O', 'P', 'Q', 'R', 'S', 'T', 'U', 'V', 'W', 'X', 'Y', 'Z'],\n",
       "      dtype=object)"
      ]
     },
     "execution_count": 15,
     "metadata": {},
     "output_type": "execute_result"
    }
   ],
   "source": [
    "np.unique(y)"
   ]
  },
  {
   "cell_type": "code",
   "execution_count": 16,
   "id": "0a45a929",
   "metadata": {},
   "outputs": [],
   "source": [
    "x_train, x_test, y_train, y_test = train_test_split(x, y, test_size=0.2)"
   ]
  },
  {
   "cell_type": "code",
   "execution_count": 18,
   "id": "c54fac7e",
   "metadata": {},
   "outputs": [
    {
     "name": "stdout",
     "output_type": "stream",
     "text": [
      "Train Shape : (16000, 16)\n",
      "Test Shape : (4000, 16)\n",
      "y_train shape : (16000,)\n",
      "y_test shape : (4000,)\n"
     ]
    }
   ],
   "source": [
    "def shape():\n",
    "    print(\"Train Shape :\",x_train.shape)\n",
    "    print(\"Test Shape :\",x_test.shape)\n",
    "    print(\"y_train shape :\",y_train.shape)\n",
    "    print(\"y_test shape :\",y_test.shape)\n",
    "\n",
    "shape()"
   ]
  },
  {
   "cell_type": "code",
   "execution_count": 19,
   "id": "9df95e26",
   "metadata": {},
   "outputs": [
    {
     "data": {
      "text/plain": [
       "array([ 3,  8,  5,  6,  3,  9,  8,  4,  6,  9,  3,  8,  3,  6,  4, 11],\n",
       "      dtype=int64)"
      ]
     },
     "execution_count": 19,
     "metadata": {},
     "output_type": "execute_result"
    }
   ],
   "source": [
    " x_train[0]"
   ]
  },
  {
   "cell_type": "code",
   "execution_count": 20,
   "id": "03bd247a",
   "metadata": {},
   "outputs": [
    {
     "data": {
      "text/plain": [
       "'R'"
      ]
     },
     "execution_count": 20,
     "metadata": {},
     "output_type": "execute_result"
    }
   ],
   "source": [
    " y_train[0]"
   ]
  },
  {
   "cell_type": "code",
   "execution_count": 21,
   "id": "b7cea586",
   "metadata": {},
   "outputs": [],
   "source": [
    "class_names=['A', 'B', 'C', 'D', 'E', 'F', 'G', 'H', 'I', 'J', 'K', 'L', 'M','N', 'O', 'P', 'Q', 'R', 'S', 'T', 'U', 'V', 'W', 'X', 'Y', 'Z']"
   ]
  },
  {
   "cell_type": "code",
   "execution_count": 22,
   "id": "d62123e4",
   "metadata": {},
   "outputs": [
    {
     "data": {
      "text/plain": [
       "array([ 2,  6,  3,  4,  2,  7,  6,  6,  6,  7,  3, 10,  1,  8,  4, 10],\n",
       "      dtype=int64)"
      ]
     },
     "execution_count": 22,
     "metadata": {},
     "output_type": "execute_result"
    }
   ],
   "source": [
    " x_test[10]"
   ]
  },
  {
   "cell_type": "code",
   "execution_count": 23,
   "id": "85f1e490",
   "metadata": {},
   "outputs": [
    {
     "data": {
      "text/plain": [
       "'G'"
      ]
     },
     "execution_count": 23,
     "metadata": {},
     "output_type": "execute_result"
    }
   ],
   "source": [
    " y_test[10]"
   ]
  },
  {
   "cell_type": "code",
   "execution_count": 24,
   "id": "6d0621b7",
   "metadata": {},
   "outputs": [],
   "source": [
    "x_train = x_train/255\n",
    "x_test = x_test/255"
   ]
  },
  {
   "cell_type": "code",
   "execution_count": 25,
   "id": "196aafc7",
   "metadata": {},
   "outputs": [],
   "source": [
    "from sklearn.preprocessing import LabelEncoder\n",
    "\n",
    "encoder = LabelEncoder()\n",
    "\n",
    "y_train = encoder.fit_transform(y_train)\n",
    "y_test = encoder.fit_transform(y_test)"
   ]
  },
  {
   "cell_type": "code",
   "execution_count": 26,
   "id": "fd5d5fde",
   "metadata": {},
   "outputs": [
    {
     "name": "stdout",
     "output_type": "stream",
     "text": [
      "WARNING:tensorflow:From E:\\New folder (2)\\lib\\site-packages\\keras\\src\\losses.py:2976: The name tf.losses.sparse_softmax_cross_entropy is deprecated. Please use tf.compat.v1.losses.sparse_softmax_cross_entropy instead.\n",
      "\n"
     ]
    }
   ],
   "source": [
    "from tensorflow.keras.models import Sequential\n",
    "from tensorflow.keras.layers import Dense, Dropout"
   ]
  },
  {
   "cell_type": "code",
   "execution_count": 27,
   "id": "5baec4e4",
   "metadata": {},
   "outputs": [
    {
     "name": "stdout",
     "output_type": "stream",
     "text": [
      "WARNING:tensorflow:From E:\\New folder (2)\\lib\\site-packages\\keras\\src\\backend.py:873: The name tf.get_default_graph is deprecated. Please use tf.compat.v1.get_default_graph instead.\n",
      "\n",
      "WARNING:tensorflow:From E:\\New folder (2)\\lib\\site-packages\\keras\\src\\optimizers\\__init__.py:309: The name tf.train.Optimizer is deprecated. Please use tf.compat.v1.train.Optimizer instead.\n",
      "\n",
      "Model: \"sequential\"\n",
      "_________________________________________________________________\n",
      " Layer (type)                Output Shape              Param #   \n",
      "=================================================================\n",
      " dense (Dense)               (None, 512)               8704      \n",
      "                                                                 \n",
      " dropout (Dropout)           (None, 512)               0         \n",
      "                                                                 \n",
      " dense_1 (Dense)             (None, 256)               131328    \n",
      "                                                                 \n",
      " dropout_1 (Dropout)         (None, 256)               0         \n",
      "                                                                 \n",
      " dense_2 (Dense)             (None, 26)                6682      \n",
      "                                                                 \n",
      "=================================================================\n",
      "Total params: 146714 (573.10 KB)\n",
      "Trainable params: 146714 (573.10 KB)\n",
      "Non-trainable params: 0 (0.00 Byte)\n",
      "_________________________________________________________________\n"
     ]
    }
   ],
   "source": [
    "model=Sequential()\n",
    "\n",
    "model.add(Dense(512, activation='relu', input_shape=(16,)))\n",
    "model.add(Dropout(0.2))\n",
    "\n",
    "model.add(Dense(256, activation='relu'))\n",
    "model.add(Dropout(0.2))\n",
    "\n",
    "model.add(Dense(26, activation='softmax'))\n",
    "\n",
    "model.compile(optimizer='adam', loss='sparse_categorical_crossentropy',metrics=['accuracy'])\n",
    "model.summary()"
   ]
  },
  {
   "cell_type": "code",
   "execution_count": 28,
   "id": "28b0b9cb",
   "metadata": {},
   "outputs": [
    {
     "name": "stdout",
     "output_type": "stream",
     "text": [
      "Epoch 1/50\n",
      "WARNING:tensorflow:From E:\\New folder (2)\\lib\\site-packages\\keras\\src\\utils\\tf_utils.py:492: The name tf.ragged.RaggedTensorValue is deprecated. Please use tf.compat.v1.ragged.RaggedTensorValue instead.\n",
      "\n",
      "WARNING:tensorflow:From E:\\New folder (2)\\lib\\site-packages\\keras\\src\\engine\\base_layer_utils.py:384: The name tf.executing_eagerly_outside_functions is deprecated. Please use tf.compat.v1.executing_eagerly_outside_functions instead.\n",
      "\n",
      "125/125 [==============================] - 6s 17ms/step - loss: 3.1292 - accuracy: 0.1488 - val_loss: 2.7447 - val_accuracy: 0.2160\n",
      "Epoch 2/50\n",
      "125/125 [==============================] - 1s 11ms/step - loss: 2.3646 - accuracy: 0.3085 - val_loss: 2.0360 - val_accuracy: 0.4475\n",
      "Epoch 3/50\n",
      "125/125 [==============================] - 1s 11ms/step - loss: 1.9685 - accuracy: 0.4047 - val_loss: 1.7707 - val_accuracy: 0.4972\n",
      "Epoch 4/50\n",
      "125/125 [==============================] - 1s 10ms/step - loss: 1.7619 - accuracy: 0.4638 - val_loss: 1.6066 - val_accuracy: 0.5375\n",
      "Epoch 5/50\n",
      "125/125 [==============================] - 2s 12ms/step - loss: 1.6158 - accuracy: 0.5027 - val_loss: 1.5099 - val_accuracy: 0.5530\n",
      "Epoch 6/50\n",
      "125/125 [==============================] - 1s 11ms/step - loss: 1.5301 - accuracy: 0.5369 - val_loss: 1.4104 - val_accuracy: 0.5960\n",
      "Epoch 7/50\n",
      "125/125 [==============================] - 1s 10ms/step - loss: 1.4521 - accuracy: 0.5657 - val_loss: 1.3565 - val_accuracy: 0.6068\n",
      "Epoch 8/50\n",
      "125/125 [==============================] - 1s 11ms/step - loss: 1.3980 - accuracy: 0.5820 - val_loss: 1.3024 - val_accuracy: 0.6160\n",
      "Epoch 9/50\n",
      "125/125 [==============================] - 2s 14ms/step - loss: 1.3443 - accuracy: 0.6016 - val_loss: 1.2445 - val_accuracy: 0.6398\n",
      "Epoch 10/50\n",
      "125/125 [==============================] - 1s 10ms/step - loss: 1.2822 - accuracy: 0.6213 - val_loss: 1.1972 - val_accuracy: 0.6465\n",
      "Epoch 11/50\n",
      "125/125 [==============================] - 1s 11ms/step - loss: 1.2426 - accuracy: 0.6326 - val_loss: 1.1792 - val_accuracy: 0.6515\n",
      "Epoch 12/50\n",
      "125/125 [==============================] - 1s 11ms/step - loss: 1.1871 - accuracy: 0.6470 - val_loss: 1.0923 - val_accuracy: 0.6800\n",
      "Epoch 13/50\n",
      "125/125 [==============================] - 1s 11ms/step - loss: 1.1446 - accuracy: 0.6636 - val_loss: 1.0598 - val_accuracy: 0.6900\n",
      "Epoch 14/50\n",
      "125/125 [==============================] - 1s 11ms/step - loss: 1.1064 - accuracy: 0.6718 - val_loss: 1.0281 - val_accuracy: 0.7057\n",
      "Epoch 15/50\n",
      "125/125 [==============================] - 1s 11ms/step - loss: 1.0654 - accuracy: 0.6798 - val_loss: 0.9817 - val_accuracy: 0.7120\n",
      "Epoch 16/50\n",
      "125/125 [==============================] - 1s 10ms/step - loss: 1.0327 - accuracy: 0.6898 - val_loss: 0.9653 - val_accuracy: 0.7050\n",
      "Epoch 17/50\n",
      "125/125 [==============================] - 1s 11ms/step - loss: 1.0009 - accuracy: 0.6966 - val_loss: 0.9294 - val_accuracy: 0.7190\n",
      "Epoch 18/50\n",
      "125/125 [==============================] - 2s 13ms/step - loss: 0.9741 - accuracy: 0.7051 - val_loss: 0.8917 - val_accuracy: 0.7333\n",
      "Epoch 19/50\n",
      "125/125 [==============================] - 2s 14ms/step - loss: 0.9468 - accuracy: 0.7109 - val_loss: 0.8762 - val_accuracy: 0.7405\n",
      "Epoch 20/50\n",
      "125/125 [==============================] - 1s 12ms/step - loss: 0.9276 - accuracy: 0.7181 - val_loss: 0.8473 - val_accuracy: 0.7505\n",
      "Epoch 21/50\n",
      "125/125 [==============================] - 1s 10ms/step - loss: 0.9041 - accuracy: 0.7276 - val_loss: 0.8254 - val_accuracy: 0.7605\n",
      "Epoch 22/50\n",
      "125/125 [==============================] - 1s 11ms/step - loss: 0.8837 - accuracy: 0.7304 - val_loss: 0.8041 - val_accuracy: 0.7690\n",
      "Epoch 23/50\n",
      "125/125 [==============================] - 1s 10ms/step - loss: 0.8644 - accuracy: 0.7350 - val_loss: 0.7970 - val_accuracy: 0.7577\n",
      "Epoch 24/50\n",
      "125/125 [==============================] - 1s 11ms/step - loss: 0.8497 - accuracy: 0.7380 - val_loss: 0.7693 - val_accuracy: 0.7707\n",
      "Epoch 25/50\n",
      "125/125 [==============================] - 1s 12ms/step - loss: 0.8187 - accuracy: 0.7493 - val_loss: 0.7563 - val_accuracy: 0.7800\n",
      "Epoch 26/50\n",
      "125/125 [==============================] - 1s 11ms/step - loss: 0.8085 - accuracy: 0.7527 - val_loss: 0.7289 - val_accuracy: 0.7850\n",
      "Epoch 27/50\n",
      "125/125 [==============================] - 1s 11ms/step - loss: 0.7884 - accuracy: 0.7582 - val_loss: 0.7154 - val_accuracy: 0.7860\n",
      "Epoch 28/50\n",
      "125/125 [==============================] - 1s 11ms/step - loss: 0.7693 - accuracy: 0.7621 - val_loss: 0.7298 - val_accuracy: 0.7750\n",
      "Epoch 29/50\n",
      "125/125 [==============================] - 1s 11ms/step - loss: 0.7553 - accuracy: 0.7665 - val_loss: 0.6953 - val_accuracy: 0.7937\n",
      "Epoch 30/50\n",
      "125/125 [==============================] - 1s 10ms/step - loss: 0.7473 - accuracy: 0.7689 - val_loss: 0.6791 - val_accuracy: 0.7997\n",
      "Epoch 31/50\n",
      "125/125 [==============================] - 1s 9ms/step - loss: 0.7234 - accuracy: 0.7771 - val_loss: 0.6652 - val_accuracy: 0.7995\n",
      "Epoch 32/50\n",
      "125/125 [==============================] - 1s 9ms/step - loss: 0.7112 - accuracy: 0.7806 - val_loss: 0.6521 - val_accuracy: 0.8087\n",
      "Epoch 33/50\n",
      "125/125 [==============================] - 1s 11ms/step - loss: 0.7010 - accuracy: 0.7810 - val_loss: 0.6354 - val_accuracy: 0.8100\n",
      "Epoch 34/50\n",
      "125/125 [==============================] - 1s 10ms/step - loss: 0.6838 - accuracy: 0.7876 - val_loss: 0.6298 - val_accuracy: 0.8140\n",
      "Epoch 35/50\n",
      "125/125 [==============================] - 1s 11ms/step - loss: 0.6759 - accuracy: 0.7924 - val_loss: 0.6199 - val_accuracy: 0.8142\n",
      "Epoch 36/50\n",
      "125/125 [==============================] - 1s 11ms/step - loss: 0.6577 - accuracy: 0.7947 - val_loss: 0.5986 - val_accuracy: 0.8183\n",
      "Epoch 37/50\n",
      "125/125 [==============================] - 1s 11ms/step - loss: 0.6570 - accuracy: 0.7940 - val_loss: 0.5880 - val_accuracy: 0.8282\n",
      "Epoch 38/50\n",
      "125/125 [==============================] - 1s 11ms/step - loss: 0.6377 - accuracy: 0.8018 - val_loss: 0.5816 - val_accuracy: 0.8223\n",
      "Epoch 39/50\n",
      "125/125 [==============================] - 1s 11ms/step - loss: 0.6297 - accuracy: 0.8033 - val_loss: 0.5790 - val_accuracy: 0.8288\n",
      "Epoch 40/50\n",
      "125/125 [==============================] - 1s 11ms/step - loss: 0.6162 - accuracy: 0.8104 - val_loss: 0.5599 - val_accuracy: 0.8300\n",
      "Epoch 41/50\n",
      "125/125 [==============================] - 1s 10ms/step - loss: 0.6056 - accuracy: 0.8132 - val_loss: 0.5550 - val_accuracy: 0.8360\n",
      "Epoch 42/50\n",
      "125/125 [==============================] - 1s 9ms/step - loss: 0.5922 - accuracy: 0.8169 - val_loss: 0.5459 - val_accuracy: 0.8338\n",
      "Epoch 43/50\n",
      "125/125 [==============================] - 1s 10ms/step - loss: 0.5820 - accuracy: 0.8204 - val_loss: 0.5401 - val_accuracy: 0.8420\n",
      "Epoch 44/50\n",
      "125/125 [==============================] - 1s 9ms/step - loss: 0.5761 - accuracy: 0.8184 - val_loss: 0.5205 - val_accuracy: 0.8470\n",
      "Epoch 45/50\n",
      "125/125 [==============================] - 1s 10ms/step - loss: 0.5683 - accuracy: 0.8233 - val_loss: 0.5236 - val_accuracy: 0.8455\n",
      "Epoch 46/50\n",
      "125/125 [==============================] - 1s 11ms/step - loss: 0.5548 - accuracy: 0.8274 - val_loss: 0.5106 - val_accuracy: 0.8495\n",
      "Epoch 47/50\n",
      "125/125 [==============================] - 1s 12ms/step - loss: 0.5479 - accuracy: 0.8330 - val_loss: 0.5041 - val_accuracy: 0.8522\n",
      "Epoch 48/50\n",
      "125/125 [==============================] - 1s 11ms/step - loss: 0.5395 - accuracy: 0.8314 - val_loss: 0.4999 - val_accuracy: 0.8528\n",
      "Epoch 49/50\n",
      "125/125 [==============================] - 1s 11ms/step - loss: 0.5334 - accuracy: 0.8334 - val_loss: 0.4831 - val_accuracy: 0.8545\n",
      "Epoch 50/50\n",
      "125/125 [==============================] - 1s 11ms/step - loss: 0.5207 - accuracy: 0.8361 - val_loss: 0.4733 - val_accuracy: 0.8615\n"
     ]
    },
    {
     "data": {
      "text/plain": [
       "<keras.src.callbacks.History at 0x24ff25571f0>"
      ]
     },
     "execution_count": 28,
     "metadata": {},
     "output_type": "execute_result"
    }
   ],
   "source": [
    "model.fit(x_train, y_train, epochs=50, batch_size=128, verbose=1,validation_data=(x_test, y_test))"
   ]
  },
  {
   "cell_type": "code",
   "execution_count": 29,
   "id": "e96ffbfb",
   "metadata": {},
   "outputs": [
    {
     "name": "stdout",
     "output_type": "stream",
     "text": [
      "125/125 [==============================] - 1s 3ms/step\n"
     ]
    }
   ],
   "source": [
    " predictions = model.predict(x_test)"
   ]
  },
  {
   "cell_type": "code",
   "execution_count": 30,
   "id": "156e7820",
   "metadata": {},
   "outputs": [
    {
     "name": "stdout",
     "output_type": "stream",
     "text": [
      "[4.8251739e-08 5.5898722e-06 5.6429842e-04 4.0214886e-06 2.4074095e-03\n",
      " 8.6348484e-07 9.2500252e-01 6.4259626e-07 2.3994343e-03 2.0602121e-05\n",
      " 2.9485322e-05 5.6292623e-02 1.2517701e-13 2.7824490e-12 1.6521977e-03\n",
      " 2.1143762e-07 6.9159474e-03 5.6455034e-04 4.0081777e-03 4.9640239e-08\n",
      " 2.6735802e-10 7.9963536e-14 6.3759732e-22 1.1918312e-04 4.6496704e-13\n",
      " 1.2329143e-05]\n",
      "Actual label : 6\n",
      "Predicted label : 6\n",
      "Class (A-Z) : G\n"
     ]
    }
   ],
   "source": [
    "index=10\n",
    "\n",
    "print(predictions[index])\n",
    "\n",
    "final_value=np.argmax(predictions[index])\n",
    "\n",
    "print(\"Actual label :\",y_test[index])\n",
    "print(\"Predicted label :\",final_value)\n",
    "print(\"Class (A-Z) :\",class_names[final_value])"
   ]
  },
  {
   "cell_type": "code",
   "execution_count": 31,
   "id": "3358fd60",
   "metadata": {},
   "outputs": [
    {
     "name": "stdout",
     "output_type": "stream",
     "text": [
      "125/125 [==============================] - 1s 4ms/step - loss: 0.4733 - accuracy: 0.8615\n",
      "Loss : 0.4733397662639618\n",
      "Accuracy (Test Data) : 86.15000247955322\n"
     ]
    }
   ],
   "source": [
    "loss, accuracy = model.evaluate(x_test, y_test)\n",
    "\n",
    "print(\"Loss :\",loss)\n",
    "print(\"Accuracy (Test Data) :\",accuracy*100)"
   ]
  },
  {
   "cell_type": "code",
   "execution_count": null,
   "id": "3e0a855a",
   "metadata": {},
   "outputs": [],
   "source": []
  }
 ],
 "metadata": {
  "kernelspec": {
   "display_name": "Python 3 (ipykernel)",
   "language": "python",
   "name": "python3"
  },
  "language_info": {
   "codemirror_mode": {
    "name": "ipython",
    "version": 3
   },
   "file_extension": ".py",
   "mimetype": "text/x-python",
   "name": "python",
   "nbconvert_exporter": "python",
   "pygments_lexer": "ipython3",
   "version": "3.9.7"
  }
 },
 "nbformat": 4,
 "nbformat_minor": 5
}
